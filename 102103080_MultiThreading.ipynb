{
 "cells": [
  {
   "cell_type": "code",
   "execution_count": 25,
   "id": "f385a9fc",
   "metadata": {},
   "outputs": [],
   "source": [
    "import time\n",
    "import threading\n",
    "import numpy as np\n",
    "import pandas as pd\n",
    "import matplotlib.pyplot as plt"
   ]
  },
  {
   "cell_type": "code",
   "execution_count": 26,
   "id": "58d2b657",
   "metadata": {},
   "outputs": [],
   "source": [
    "def generate_random_matrices(size):\n",
    "    return [np.random.rand(size, size) for _ in range(100)]\n",
    "\n",
    "def matrix_multiplication(matrix, constant_matrix, result, start, end):\n",
    "    for i in range(start, end):\n",
    "        result[i] = np.dot(matrix[i], constant_matrix)"
   ]
  },
  {
   "cell_type": "code",
   "execution_count": null,
   "id": "95f6ef37",
   "metadata": {},
   "outputs": [],
   "source": [
    "def main():\n",
    "    matrix_size = 1000\n",
    "    constant_matrix = np.random.rand(matrix_size, matrix_size)\n",
    "    random_matrices = generate_random_matrices(matrix_size)\n",
    "    num_threads_list = [4, 6, 8, 10, 12, 14, 16, 18]\n",
    "    time_taken = []\n",
    "\n",
    "    for num_threads in num_threads_list:\n",
    "        start_time = time.time()\n",
    "        threads = []\n",
    "        results = [None] * len(random_matrices)\n",
    "\n",
    "        for i in range(num_threads):\n",
    "            start_index = i * (len(random_matrices) // num_threads)\n",
    "            end_index = (i + 1) * (len(random_matrices) // num_threads) if i != num_threads - 1 else len(random_matrices)\n",
    "            thread = threading.Thread(target=matrix_multiplication,\n",
    "                                      args=(random_matrices, constant_matrix, results, start_index, end_index))\n",
    "            threads.append(thread)\n",
    "            thread.start()\n",
    "\n",
    "        for thread in threads:\n",
    "            thread.join()\n",
    "\n",
    "        end_time = time.time()\n",
    "        time_taken.append(end_time - start_time)\n",
    "\n",
    "    data = {\"Number of Threads\": num_threads_list, \"Time Taken (s)\": time_taken}\n",
    "    df = pd.DataFrame(data)\n",
    "    print(df)\n",
    "\n",
    "    plt.plot(num_threads_list, time_taken, marker='o')\n",
    "    plt.title(\"Time vs Number of Threads\")\n",
    "    plt.xlabel(\"Number of Threads\")\n",
    "    plt.ylabel(\"Time Taken (s)\")\n",
    "    plt.xticks(np.arange(4, 20, step=2))\n",
    "    plt.grid(True)\n",
    "    plt.show()\n",
    "\n",
    "main()"
   ]
  },
  {
   "cell_type": "code",
   "execution_count": null,
   "id": "8f818cd9-bc1c-42ad-a4e6-67591e2e1ee7",
   "metadata": {},
   "outputs": [],
   "source": []
  }
 ],
 "metadata": {
  "kernelspec": {
   "display_name": "Python 3 (ipykernel)",
   "language": "python",
   "name": "python3"
  },
  "language_info": {
   "codemirror_mode": {
    "name": "ipython",
    "version": 3
   },
   "file_extension": ".py",
   "mimetype": "text/x-python",
   "name": "python",
   "nbconvert_exporter": "python",
   "pygments_lexer": "ipython3",
   "version": "3.12.1"
  }
 },
 "nbformat": 4,
 "nbformat_minor": 5
}
